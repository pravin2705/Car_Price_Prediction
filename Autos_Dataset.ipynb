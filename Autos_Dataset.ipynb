{
 "cells": [
  {
   "cell_type": "code",
   "execution_count": 1,
   "id": "12506342",
   "metadata": {},
   "outputs": [],
   "source": [
    "import pandas as pd\n",
    "import numpy as np\n",
    "import matplotlib.pyplot as plt\n",
    "import seaborn as sns\n",
    "from sklearn.model_selection import train_test_split\n",
    "from sklearn.linear_model import LinearRegression\n",
    "from sklearn.metrics import mean_absolute_error,mean_squared_error,r2_score\n",
    "from sklearn.preprocessing import OneHotEncoder,LabelEncoder"
   ]
  },
  {
   "cell_type": "markdown",
   "id": "8cab88c3",
   "metadata": {},
   "source": [
    "1 Define Problem statement"
   ]
  },
  {
   "cell_type": "markdown",
   "id": "2c4da8d5",
   "metadata": {},
   "source": [
    "We have to predict the price of car by using autos car dataset."
   ]
  },
  {
   "cell_type": "markdown",
   "id": "b82f8648",
   "metadata": {},
   "source": [
    "2 Gather the Data"
   ]
  },
  {
   "cell_type": "code",
   "execution_count": 2,
   "id": "33fe254c",
   "metadata": {},
   "outputs": [],
   "source": [
    "df = pd.read_csv(r'C:\\Users\\Pravin\\anaconda3\\autos_dataset.csv')\n"
   ]
  },
  {
   "cell_type": "markdown",
   "id": "7b114a72",
   "metadata": {},
   "source": [
    "3 Perform EDA on data"
   ]
  },
  {
   "cell_type": "code",
   "execution_count": 3,
   "id": "598d4d61",
   "metadata": {},
   "outputs": [
    {
     "name": "stdout",
     "output_type": "stream",
     "text": [
      "<class 'pandas.core.frame.DataFrame'>\n",
      "RangeIndex: 205 entries, 0 to 204\n",
      "Data columns (total 26 columns):\n",
      " #   Column             Non-Null Count  Dtype  \n",
      "---  ------             --------------  -----  \n",
      " 0   symboling          205 non-null    int64  \n",
      " 1   normalized-losses  205 non-null    object \n",
      " 2   make               205 non-null    object \n",
      " 3   fuel-type          205 non-null    object \n",
      " 4   aspiration         205 non-null    object \n",
      " 5   num-of-doors       205 non-null    object \n",
      " 6   body-style         205 non-null    object \n",
      " 7   drive-wheels       205 non-null    object \n",
      " 8   engine-location    205 non-null    object \n",
      " 9   wheel-base         205 non-null    float64\n",
      " 10  length             205 non-null    float64\n",
      " 11  width              205 non-null    float64\n",
      " 12  height             205 non-null    float64\n",
      " 13  curb-weight        205 non-null    int64  \n",
      " 14  engine-type        205 non-null    object \n",
      " 15  num-of-cylinders   205 non-null    object \n",
      " 16  engine-size        205 non-null    int64  \n",
      " 17  fuel-system        205 non-null    object \n",
      " 18  bore               205 non-null    object \n",
      " 19  stroke             205 non-null    object \n",
      " 20  compression-ratio  205 non-null    float64\n",
      " 21  horsepower         205 non-null    object \n",
      " 22  peak-rpm           205 non-null    object \n",
      " 23  city-mpg           205 non-null    int64  \n",
      " 24  highway-mpg        205 non-null    int64  \n",
      " 25  price              205 non-null    object \n",
      "dtypes: float64(5), int64(5), object(16)\n",
      "memory usage: 41.8+ KB\n"
     ]
    }
   ],
   "source": [
    "df.info()"
   ]
  },
  {
   "cell_type": "code",
   "execution_count": 4,
   "id": "91d793bb",
   "metadata": {},
   "outputs": [
    {
     "data": {
      "text/plain": [
       "symboling            0\n",
       "normalized-losses    0\n",
       "make                 0\n",
       "fuel-type            0\n",
       "aspiration           0\n",
       "num-of-doors         0\n",
       "body-style           0\n",
       "drive-wheels         0\n",
       "engine-location      0\n",
       "wheel-base           0\n",
       "length               0\n",
       "width                0\n",
       "height               0\n",
       "curb-weight          0\n",
       "engine-type          0\n",
       "num-of-cylinders     0\n",
       "engine-size          0\n",
       "fuel-system          0\n",
       "bore                 0\n",
       "stroke               0\n",
       "compression-ratio    0\n",
       "horsepower           0\n",
       "peak-rpm             0\n",
       "city-mpg             0\n",
       "highway-mpg          0\n",
       "price                0\n",
       "dtype: int64"
      ]
     },
     "execution_count": 4,
     "metadata": {},
     "output_type": "execute_result"
    }
   ],
   "source": [
    "df.isna().sum()"
   ]
  },
  {
   "cell_type": "code",
   "execution_count": 5,
   "id": "68ac0527",
   "metadata": {},
   "outputs": [],
   "source": [
    "df.replace({'?':np.nan},inplace =True)\n"
   ]
  },
  {
   "cell_type": "markdown",
   "id": "f360beb7",
   "metadata": {},
   "source": [
    "We will checck columnwise and if any then fill value"
   ]
  },
  {
   "cell_type": "code",
   "execution_count": 6,
   "id": "1245610f",
   "metadata": {},
   "outputs": [
    {
     "data": {
      "text/plain": [
       "0      3\n",
       "1      3\n",
       "2      1\n",
       "3      2\n",
       "4      2\n",
       "      ..\n",
       "200   -1\n",
       "201   -1\n",
       "202   -1\n",
       "203   -1\n",
       "204   -1\n",
       "Name: symboling, Length: 205, dtype: int64"
      ]
     },
     "execution_count": 6,
     "metadata": {},
     "output_type": "execute_result"
    }
   ],
   "source": [
    "df['symboling']"
   ]
  },
  {
   "cell_type": "code",
   "execution_count": 7,
   "id": "99f34c4d",
   "metadata": {},
   "outputs": [
    {
     "name": "stdout",
     "output_type": "stream",
     "text": [
      "<class 'pandas.core.frame.DataFrame'>\n",
      "RangeIndex: 205 entries, 0 to 204\n",
      "Data columns (total 26 columns):\n",
      " #   Column             Non-Null Count  Dtype  \n",
      "---  ------             --------------  -----  \n",
      " 0   symboling          205 non-null    int64  \n",
      " 1   normalized-losses  164 non-null    object \n",
      " 2   make               205 non-null    object \n",
      " 3   fuel-type          205 non-null    object \n",
      " 4   aspiration         205 non-null    object \n",
      " 5   num-of-doors       203 non-null    object \n",
      " 6   body-style         205 non-null    object \n",
      " 7   drive-wheels       205 non-null    object \n",
      " 8   engine-location    205 non-null    object \n",
      " 9   wheel-base         205 non-null    float64\n",
      " 10  length             205 non-null    float64\n",
      " 11  width              205 non-null    float64\n",
      " 12  height             205 non-null    float64\n",
      " 13  curb-weight        205 non-null    int64  \n",
      " 14  engine-type        205 non-null    object \n",
      " 15  num-of-cylinders   205 non-null    object \n",
      " 16  engine-size        205 non-null    int64  \n",
      " 17  fuel-system        205 non-null    object \n",
      " 18  bore               201 non-null    object \n",
      " 19  stroke             201 non-null    object \n",
      " 20  compression-ratio  205 non-null    float64\n",
      " 21  horsepower         203 non-null    object \n",
      " 22  peak-rpm           203 non-null    object \n",
      " 23  city-mpg           205 non-null    int64  \n",
      " 24  highway-mpg        205 non-null    int64  \n",
      " 25  price              201 non-null    object \n",
      "dtypes: float64(5), int64(5), object(16)\n",
      "memory usage: 41.8+ KB\n"
     ]
    }
   ],
   "source": [
    "df.info()"
   ]
  },
  {
   "cell_type": "code",
   "execution_count": 8,
   "id": "8c70f474",
   "metadata": {},
   "outputs": [],
   "source": [
    "df['normalized-losses']=df['normalized-losses'].fillna(df['normalized-losses'].median()).astype(float)"
   ]
  },
  {
   "cell_type": "code",
   "execution_count": 9,
   "id": "3d29b4ad",
   "metadata": {},
   "outputs": [
    {
     "name": "stdout",
     "output_type": "stream",
     "text": [
      "<class 'pandas.core.frame.DataFrame'>\n",
      "RangeIndex: 205 entries, 0 to 204\n",
      "Data columns (total 26 columns):\n",
      " #   Column             Non-Null Count  Dtype  \n",
      "---  ------             --------------  -----  \n",
      " 0   symboling          205 non-null    int64  \n",
      " 1   normalized-losses  205 non-null    float64\n",
      " 2   make               205 non-null    object \n",
      " 3   fuel-type          205 non-null    object \n",
      " 4   aspiration         205 non-null    object \n",
      " 5   num-of-doors       203 non-null    object \n",
      " 6   body-style         205 non-null    object \n",
      " 7   drive-wheels       205 non-null    object \n",
      " 8   engine-location    205 non-null    object \n",
      " 9   wheel-base         205 non-null    float64\n",
      " 10  length             205 non-null    float64\n",
      " 11  width              205 non-null    float64\n",
      " 12  height             205 non-null    float64\n",
      " 13  curb-weight        205 non-null    int64  \n",
      " 14  engine-type        205 non-null    object \n",
      " 15  num-of-cylinders   205 non-null    object \n",
      " 16  engine-size        205 non-null    int64  \n",
      " 17  fuel-system        205 non-null    object \n",
      " 18  bore               201 non-null    object \n",
      " 19  stroke             201 non-null    object \n",
      " 20  compression-ratio  205 non-null    float64\n",
      " 21  horsepower         203 non-null    object \n",
      " 22  peak-rpm           203 non-null    object \n",
      " 23  city-mpg           205 non-null    int64  \n",
      " 24  highway-mpg        205 non-null    int64  \n",
      " 25  price              201 non-null    object \n",
      "dtypes: float64(6), int64(5), object(15)\n",
      "memory usage: 41.8+ KB\n"
     ]
    }
   ],
   "source": [
    "df.info()"
   ]
  },
  {
   "cell_type": "code",
   "execution_count": 10,
   "id": "29e55034",
   "metadata": {},
   "outputs": [],
   "source": [
    "df['fuel-type'].isna().sum()\n",
    "df['fuel-type'].value_counts()\n",
    "df['fuel-type'].replace({'gas':0,'diesel':1},inplace =True)"
   ]
  },
  {
   "cell_type": "code",
   "execution_count": 11,
   "id": "4e3d80fa",
   "metadata": {},
   "outputs": [
    {
     "name": "stdout",
     "output_type": "stream",
     "text": [
      "<class 'pandas.core.frame.DataFrame'>\n",
      "RangeIndex: 205 entries, 0 to 204\n",
      "Data columns (total 26 columns):\n",
      " #   Column             Non-Null Count  Dtype  \n",
      "---  ------             --------------  -----  \n",
      " 0   symboling          205 non-null    int64  \n",
      " 1   normalized-losses  205 non-null    float64\n",
      " 2   make               205 non-null    object \n",
      " 3   fuel-type          205 non-null    int64  \n",
      " 4   aspiration         205 non-null    object \n",
      " 5   num-of-doors       203 non-null    object \n",
      " 6   body-style         205 non-null    object \n",
      " 7   drive-wheels       205 non-null    object \n",
      " 8   engine-location    205 non-null    object \n",
      " 9   wheel-base         205 non-null    float64\n",
      " 10  length             205 non-null    float64\n",
      " 11  width              205 non-null    float64\n",
      " 12  height             205 non-null    float64\n",
      " 13  curb-weight        205 non-null    int64  \n",
      " 14  engine-type        205 non-null    object \n",
      " 15  num-of-cylinders   205 non-null    object \n",
      " 16  engine-size        205 non-null    int64  \n",
      " 17  fuel-system        205 non-null    object \n",
      " 18  bore               201 non-null    object \n",
      " 19  stroke             201 non-null    object \n",
      " 20  compression-ratio  205 non-null    float64\n",
      " 21  horsepower         203 non-null    object \n",
      " 22  peak-rpm           203 non-null    object \n",
      " 23  city-mpg           205 non-null    int64  \n",
      " 24  highway-mpg        205 non-null    int64  \n",
      " 25  price              201 non-null    object \n",
      "dtypes: float64(6), int64(6), object(14)\n",
      "memory usage: 41.8+ KB\n"
     ]
    }
   ],
   "source": [
    "df['fuel-type']\n",
    "df.info()\n"
   ]
  },
  {
   "cell_type": "code",
   "execution_count": 12,
   "id": "afbcb900",
   "metadata": {},
   "outputs": [],
   "source": [
    "df['aspiration'].isna().sum()\n",
    "df['aspiration'].value_counts()\n",
    "df['aspiration'].replace({'std':0,'turbo':1},inplace = True)\n"
   ]
  },
  {
   "cell_type": "code",
   "execution_count": 13,
   "id": "05415d28",
   "metadata": {},
   "outputs": [
    {
     "name": "stdout",
     "output_type": "stream",
     "text": [
      "<class 'pandas.core.frame.DataFrame'>\n",
      "RangeIndex: 205 entries, 0 to 204\n",
      "Data columns (total 26 columns):\n",
      " #   Column             Non-Null Count  Dtype  \n",
      "---  ------             --------------  -----  \n",
      " 0   symboling          205 non-null    int64  \n",
      " 1   normalized-losses  205 non-null    float64\n",
      " 2   make               205 non-null    object \n",
      " 3   fuel-type          205 non-null    int64  \n",
      " 4   aspiration         205 non-null    int64  \n",
      " 5   num-of-doors       203 non-null    object \n",
      " 6   body-style         205 non-null    object \n",
      " 7   drive-wheels       205 non-null    object \n",
      " 8   engine-location    205 non-null    object \n",
      " 9   wheel-base         205 non-null    float64\n",
      " 10  length             205 non-null    float64\n",
      " 11  width              205 non-null    float64\n",
      " 12  height             205 non-null    float64\n",
      " 13  curb-weight        205 non-null    int64  \n",
      " 14  engine-type        205 non-null    object \n",
      " 15  num-of-cylinders   205 non-null    object \n",
      " 16  engine-size        205 non-null    int64  \n",
      " 17  fuel-system        205 non-null    object \n",
      " 18  bore               201 non-null    object \n",
      " 19  stroke             201 non-null    object \n",
      " 20  compression-ratio  205 non-null    float64\n",
      " 21  horsepower         203 non-null    object \n",
      " 22  peak-rpm           203 non-null    object \n",
      " 23  city-mpg           205 non-null    int64  \n",
      " 24  highway-mpg        205 non-null    int64  \n",
      " 25  price              201 non-null    object \n",
      "dtypes: float64(6), int64(7), object(13)\n",
      "memory usage: 41.8+ KB\n"
     ]
    }
   ],
   "source": [
    "df.info()"
   ]
  },
  {
   "cell_type": "code",
   "execution_count": 14,
   "id": "8a04b688",
   "metadata": {},
   "outputs": [
    {
     "data": {
      "text/plain": [
       "0      2.0\n",
       "1      2.0\n",
       "2      2.0\n",
       "3      4.0\n",
       "4      4.0\n",
       "      ... \n",
       "200    4.0\n",
       "201    4.0\n",
       "202    4.0\n",
       "203    4.0\n",
       "204    4.0\n",
       "Name: num-of-doors, Length: 205, dtype: float64"
      ]
     },
     "execution_count": 14,
     "metadata": {},
     "output_type": "execute_result"
    }
   ],
   "source": [
    "df['num-of-doors'].isna().sum()\n",
    "df['num-of-doors'].value_counts()\n",
    "df['num-of-doors'].replace({'four':4,'two':2},inplace  =True)\n",
    "df['num-of-doors'].isna().sum()\n",
    "df['num-of-doors'] = df['num-of-doors'].fillna(df['num-of-doors'].median())\n",
    "df['num-of-doors'].isna().sum()\n",
    "df['num-of-doors']"
   ]
  },
  {
   "cell_type": "code",
   "execution_count": 15,
   "id": "f90f861f",
   "metadata": {},
   "outputs": [
    {
     "name": "stdout",
     "output_type": "stream",
     "text": [
      "<class 'pandas.core.frame.DataFrame'>\n",
      "RangeIndex: 205 entries, 0 to 204\n",
      "Data columns (total 26 columns):\n",
      " #   Column             Non-Null Count  Dtype  \n",
      "---  ------             --------------  -----  \n",
      " 0   symboling          205 non-null    int64  \n",
      " 1   normalized-losses  205 non-null    float64\n",
      " 2   make               205 non-null    object \n",
      " 3   fuel-type          205 non-null    int64  \n",
      " 4   aspiration         205 non-null    int64  \n",
      " 5   num-of-doors       205 non-null    float64\n",
      " 6   body-style         205 non-null    object \n",
      " 7   drive-wheels       205 non-null    object \n",
      " 8   engine-location    205 non-null    object \n",
      " 9   wheel-base         205 non-null    float64\n",
      " 10  length             205 non-null    float64\n",
      " 11  width              205 non-null    float64\n",
      " 12  height             205 non-null    float64\n",
      " 13  curb-weight        205 non-null    int64  \n",
      " 14  engine-type        205 non-null    object \n",
      " 15  num-of-cylinders   205 non-null    object \n",
      " 16  engine-size        205 non-null    int64  \n",
      " 17  fuel-system        205 non-null    object \n",
      " 18  bore               201 non-null    object \n",
      " 19  stroke             201 non-null    object \n",
      " 20  compression-ratio  205 non-null    float64\n",
      " 21  horsepower         203 non-null    object \n",
      " 22  peak-rpm           203 non-null    object \n",
      " 23  city-mpg           205 non-null    int64  \n",
      " 24  highway-mpg        205 non-null    int64  \n",
      " 25  price              201 non-null    object \n",
      "dtypes: float64(7), int64(7), object(12)\n",
      "memory usage: 41.8+ KB\n"
     ]
    }
   ],
   "source": [
    "df.info()"
   ]
  },
  {
   "cell_type": "code",
   "execution_count": 16,
   "id": "37022ede",
   "metadata": {},
   "outputs": [
    {
     "name": "stdout",
     "output_type": "stream",
     "text": [
      "<class 'pandas.core.frame.DataFrame'>\n",
      "RangeIndex: 205 entries, 0 to 204\n",
      "Data columns (total 30 columns):\n",
      " #   Column                  Non-Null Count  Dtype  \n",
      "---  ------                  --------------  -----  \n",
      " 0   symboling               205 non-null    int64  \n",
      " 1   normalized-losses       205 non-null    float64\n",
      " 2   make                    205 non-null    object \n",
      " 3   fuel-type               205 non-null    int64  \n",
      " 4   aspiration              205 non-null    int64  \n",
      " 5   num-of-doors            205 non-null    float64\n",
      " 6   drive-wheels            205 non-null    object \n",
      " 7   engine-location         205 non-null    object \n",
      " 8   wheel-base              205 non-null    float64\n",
      " 9   length                  205 non-null    float64\n",
      " 10  width                   205 non-null    float64\n",
      " 11  height                  205 non-null    float64\n",
      " 12  curb-weight             205 non-null    int64  \n",
      " 13  engine-type             205 non-null    object \n",
      " 14  num-of-cylinders        205 non-null    object \n",
      " 15  engine-size             205 non-null    int64  \n",
      " 16  fuel-system             205 non-null    object \n",
      " 17  bore                    201 non-null    object \n",
      " 18  stroke                  201 non-null    object \n",
      " 19  compression-ratio       205 non-null    float64\n",
      " 20  horsepower              203 non-null    object \n",
      " 21  peak-rpm                203 non-null    object \n",
      " 22  city-mpg                205 non-null    int64  \n",
      " 23  highway-mpg             205 non-null    int64  \n",
      " 24  price                   201 non-null    object \n",
      " 25  body-style_convertible  205 non-null    uint8  \n",
      " 26  body-style_hardtop      205 non-null    uint8  \n",
      " 27  body-style_hatchback    205 non-null    uint8  \n",
      " 28  body-style_sedan        205 non-null    uint8  \n",
      " 29  body-style_wagon        205 non-null    uint8  \n",
      "dtypes: float64(7), int64(7), object(11), uint8(5)\n",
      "memory usage: 41.2+ KB\n"
     ]
    }
   ],
   "source": [
    "df['body-style'].isna().sum()\n",
    "df['body-style'].value_counts()\n",
    "df = pd.get_dummies(df,columns  =['body-style'])\n",
    "df.info()"
   ]
  },
  {
   "cell_type": "code",
   "execution_count": 17,
   "id": "68bea2f7",
   "metadata": {},
   "outputs": [
    {
     "data": {
      "text/plain": [
       "{'fwd': 120, 'rwd': 76, '4wd': 9}"
      ]
     },
     "execution_count": 17,
     "metadata": {},
     "output_type": "execute_result"
    }
   ],
   "source": [
    "df['drive-wheels'].isna().sum()\n",
    "df['drive-wheels'].value_counts().to_dict()\n"
   ]
  },
  {
   "cell_type": "code",
   "execution_count": 18,
   "id": "7fdf03d7",
   "metadata": {},
   "outputs": [],
   "source": [
    "df['drive-wheels'].replace({'fwd': 1, 'rwd': 2, '4wd':3},inplace =True)"
   ]
  },
  {
   "cell_type": "code",
   "execution_count": 19,
   "id": "eb3a57be",
   "metadata": {},
   "outputs": [
    {
     "name": "stdout",
     "output_type": "stream",
     "text": [
      "<class 'pandas.core.frame.DataFrame'>\n",
      "RangeIndex: 205 entries, 0 to 204\n",
      "Data columns (total 30 columns):\n",
      " #   Column                  Non-Null Count  Dtype  \n",
      "---  ------                  --------------  -----  \n",
      " 0   symboling               205 non-null    int64  \n",
      " 1   normalized-losses       205 non-null    float64\n",
      " 2   make                    205 non-null    object \n",
      " 3   fuel-type               205 non-null    int64  \n",
      " 4   aspiration              205 non-null    int64  \n",
      " 5   num-of-doors            205 non-null    float64\n",
      " 6   drive-wheels            205 non-null    int64  \n",
      " 7   engine-location         205 non-null    object \n",
      " 8   wheel-base              205 non-null    float64\n",
      " 9   length                  205 non-null    float64\n",
      " 10  width                   205 non-null    float64\n",
      " 11  height                  205 non-null    float64\n",
      " 12  curb-weight             205 non-null    int64  \n",
      " 13  engine-type             205 non-null    object \n",
      " 14  num-of-cylinders        205 non-null    object \n",
      " 15  engine-size             205 non-null    int64  \n",
      " 16  fuel-system             205 non-null    object \n",
      " 17  bore                    201 non-null    object \n",
      " 18  stroke                  201 non-null    object \n",
      " 19  compression-ratio       205 non-null    float64\n",
      " 20  horsepower              203 non-null    object \n",
      " 21  peak-rpm                203 non-null    object \n",
      " 22  city-mpg                205 non-null    int64  \n",
      " 23  highway-mpg             205 non-null    int64  \n",
      " 24  price                   201 non-null    object \n",
      " 25  body-style_convertible  205 non-null    uint8  \n",
      " 26  body-style_hardtop      205 non-null    uint8  \n",
      " 27  body-style_hatchback    205 non-null    uint8  \n",
      " 28  body-style_sedan        205 non-null    uint8  \n",
      " 29  body-style_wagon        205 non-null    uint8  \n",
      "dtypes: float64(7), int64(8), object(10), uint8(5)\n",
      "memory usage: 41.2+ KB\n"
     ]
    }
   ],
   "source": [
    "df.info()"
   ]
  },
  {
   "cell_type": "code",
   "execution_count": 20,
   "id": "02348ca4",
   "metadata": {},
   "outputs": [
    {
     "data": {
      "text/plain": [
       "{'front': 202, 'rear': 3}"
      ]
     },
     "execution_count": 20,
     "metadata": {},
     "output_type": "execute_result"
    }
   ],
   "source": [
    "df['engine-location'].isna().sum()\n",
    "df['engine-location'].value_counts().to_dict()"
   ]
  },
  {
   "cell_type": "code",
   "execution_count": 21,
   "id": "7c63a452",
   "metadata": {},
   "outputs": [],
   "source": [
    "df['engine-location'].replace({'front':1, 'rear':0},inplace = True)"
   ]
  },
  {
   "cell_type": "code",
   "execution_count": 22,
   "id": "df2d65a2",
   "metadata": {},
   "outputs": [
    {
     "name": "stdout",
     "output_type": "stream",
     "text": [
      "<class 'pandas.core.frame.DataFrame'>\n",
      "RangeIndex: 205 entries, 0 to 204\n",
      "Data columns (total 30 columns):\n",
      " #   Column                  Non-Null Count  Dtype  \n",
      "---  ------                  --------------  -----  \n",
      " 0   symboling               205 non-null    int64  \n",
      " 1   normalized-losses       205 non-null    float64\n",
      " 2   make                    205 non-null    object \n",
      " 3   fuel-type               205 non-null    int64  \n",
      " 4   aspiration              205 non-null    int64  \n",
      " 5   num-of-doors            205 non-null    float64\n",
      " 6   drive-wheels            205 non-null    int64  \n",
      " 7   engine-location         205 non-null    int64  \n",
      " 8   wheel-base              205 non-null    float64\n",
      " 9   length                  205 non-null    float64\n",
      " 10  width                   205 non-null    float64\n",
      " 11  height                  205 non-null    float64\n",
      " 12  curb-weight             205 non-null    int64  \n",
      " 13  engine-type             205 non-null    object \n",
      " 14  num-of-cylinders        205 non-null    object \n",
      " 15  engine-size             205 non-null    int64  \n",
      " 16  fuel-system             205 non-null    object \n",
      " 17  bore                    201 non-null    object \n",
      " 18  stroke                  201 non-null    object \n",
      " 19  compression-ratio       205 non-null    float64\n",
      " 20  horsepower              203 non-null    object \n",
      " 21  peak-rpm                203 non-null    object \n",
      " 22  city-mpg                205 non-null    int64  \n",
      " 23  highway-mpg             205 non-null    int64  \n",
      " 24  price                   201 non-null    object \n",
      " 25  body-style_convertible  205 non-null    uint8  \n",
      " 26  body-style_hardtop      205 non-null    uint8  \n",
      " 27  body-style_hatchback    205 non-null    uint8  \n",
      " 28  body-style_sedan        205 non-null    uint8  \n",
      " 29  body-style_wagon        205 non-null    uint8  \n",
      "dtypes: float64(7), int64(9), object(9), uint8(5)\n",
      "memory usage: 41.2+ KB\n"
     ]
    }
   ],
   "source": [
    "df.info()"
   ]
  },
  {
   "cell_type": "code",
   "execution_count": 23,
   "id": "16187580",
   "metadata": {},
   "outputs": [
    {
     "data": {
      "text/plain": [
       "94.5     21\n",
       "93.7     20\n",
       "95.7     13\n",
       "96.5      8\n",
       "97.3      7\n",
       "98.4      7\n",
       "104.3     6\n",
       "100.4     6\n",
       "107.9     6\n",
       "98.8      6\n",
       "99.1      6\n",
       "96.3      6\n",
       "109.1     5\n",
       "93.1      5\n",
       "97.2      5\n",
       "95.9      5\n",
       "102.4     5\n",
       "97.0      4\n",
       "95.3      4\n",
       "114.2     4\n",
       "101.2     4\n",
       "110.0     3\n",
       "103.5     3\n",
       "89.5      3\n",
       "105.8     3\n",
       "96.1      2\n",
       "102.9     2\n",
       "104.5     2\n",
       "91.3      2\n",
       "96.9      2\n",
       "88.6      2\n",
       "113.0     2\n",
       "99.8      2\n",
       "115.6     2\n",
       "103.3     2\n",
       "86.6      2\n",
       "104.9     2\n",
       "93.3      1\n",
       "99.4      1\n",
       "99.5      1\n",
       "88.4      1\n",
       "94.3      1\n",
       "96.0      1\n",
       "95.1      1\n",
       "93.0      1\n",
       "102.0     1\n",
       "106.7     1\n",
       "108.0     1\n",
       "96.6      1\n",
       "99.2      1\n",
       "112.0     1\n",
       "102.7     1\n",
       "120.9     1\n",
       "Name: wheel-base, dtype: int64"
      ]
     },
     "execution_count": 23,
     "metadata": {},
     "output_type": "execute_result"
    }
   ],
   "source": [
    "df['wheel-base'].isna().sum()\n",
    "df['wheel-base'].value_counts()"
   ]
  },
  {
   "cell_type": "code",
   "execution_count": 24,
   "id": "71f85e06",
   "metadata": {},
   "outputs": [
    {
     "name": "stdout",
     "output_type": "stream",
     "text": [
      "<class 'pandas.core.frame.DataFrame'>\n",
      "RangeIndex: 205 entries, 0 to 204\n",
      "Data columns (total 30 columns):\n",
      " #   Column                  Non-Null Count  Dtype  \n",
      "---  ------                  --------------  -----  \n",
      " 0   symboling               205 non-null    int64  \n",
      " 1   normalized-losses       205 non-null    float64\n",
      " 2   make                    205 non-null    object \n",
      " 3   fuel-type               205 non-null    int64  \n",
      " 4   aspiration              205 non-null    int64  \n",
      " 5   num-of-doors            205 non-null    float64\n",
      " 6   drive-wheels            205 non-null    int64  \n",
      " 7   engine-location         205 non-null    int64  \n",
      " 8   wheel-base              205 non-null    float64\n",
      " 9   length                  205 non-null    float64\n",
      " 10  width                   205 non-null    float64\n",
      " 11  height                  205 non-null    float64\n",
      " 12  curb-weight             205 non-null    int64  \n",
      " 13  engine-type             205 non-null    object \n",
      " 14  num-of-cylinders        205 non-null    object \n",
      " 15  engine-size             205 non-null    int64  \n",
      " 16  fuel-system             205 non-null    object \n",
      " 17  bore                    201 non-null    object \n",
      " 18  stroke                  201 non-null    object \n",
      " 19  compression-ratio       205 non-null    float64\n",
      " 20  horsepower              203 non-null    object \n",
      " 21  peak-rpm                203 non-null    object \n",
      " 22  city-mpg                205 non-null    int64  \n",
      " 23  highway-mpg             205 non-null    int64  \n",
      " 24  price                   201 non-null    object \n",
      " 25  body-style_convertible  205 non-null    uint8  \n",
      " 26  body-style_hardtop      205 non-null    uint8  \n",
      " 27  body-style_hatchback    205 non-null    uint8  \n",
      " 28  body-style_sedan        205 non-null    uint8  \n",
      " 29  body-style_wagon        205 non-null    uint8  \n",
      "dtypes: float64(7), int64(9), object(9), uint8(5)\n",
      "memory usage: 41.2+ KB\n"
     ]
    }
   ],
   "source": [
    "df.info()"
   ]
  },
  {
   "cell_type": "code",
   "execution_count": 25,
   "id": "a0986015",
   "metadata": {},
   "outputs": [],
   "source": [
    "df['engine-type'].isna().sum()\n",
    "df['engine-type'].value_counts()\n",
    "df = pd.get_dummies(df,columns = ['engine-type'])"
   ]
  },
  {
   "cell_type": "code",
   "execution_count": 26,
   "id": "2ecdfb90",
   "metadata": {},
   "outputs": [
    {
     "name": "stdout",
     "output_type": "stream",
     "text": [
      "<class 'pandas.core.frame.DataFrame'>\n",
      "RangeIndex: 205 entries, 0 to 204\n",
      "Data columns (total 36 columns):\n",
      " #   Column                  Non-Null Count  Dtype  \n",
      "---  ------                  --------------  -----  \n",
      " 0   symboling               205 non-null    int64  \n",
      " 1   normalized-losses       205 non-null    float64\n",
      " 2   make                    205 non-null    object \n",
      " 3   fuel-type               205 non-null    int64  \n",
      " 4   aspiration              205 non-null    int64  \n",
      " 5   num-of-doors            205 non-null    float64\n",
      " 6   drive-wheels            205 non-null    int64  \n",
      " 7   engine-location         205 non-null    int64  \n",
      " 8   wheel-base              205 non-null    float64\n",
      " 9   length                  205 non-null    float64\n",
      " 10  width                   205 non-null    float64\n",
      " 11  height                  205 non-null    float64\n",
      " 12  curb-weight             205 non-null    int64  \n",
      " 13  num-of-cylinders        205 non-null    object \n",
      " 14  engine-size             205 non-null    int64  \n",
      " 15  fuel-system             205 non-null    object \n",
      " 16  bore                    201 non-null    object \n",
      " 17  stroke                  201 non-null    object \n",
      " 18  compression-ratio       205 non-null    float64\n",
      " 19  horsepower              203 non-null    object \n",
      " 20  peak-rpm                203 non-null    object \n",
      " 21  city-mpg                205 non-null    int64  \n",
      " 22  highway-mpg             205 non-null    int64  \n",
      " 23  price                   201 non-null    object \n",
      " 24  body-style_convertible  205 non-null    uint8  \n",
      " 25  body-style_hardtop      205 non-null    uint8  \n",
      " 26  body-style_hatchback    205 non-null    uint8  \n",
      " 27  body-style_sedan        205 non-null    uint8  \n",
      " 28  body-style_wagon        205 non-null    uint8  \n",
      " 29  engine-type_dohc        205 non-null    uint8  \n",
      " 30  engine-type_dohcv       205 non-null    uint8  \n",
      " 31  engine-type_l           205 non-null    uint8  \n",
      " 32  engine-type_ohc         205 non-null    uint8  \n",
      " 33  engine-type_ohcf        205 non-null    uint8  \n",
      " 34  engine-type_ohcv        205 non-null    uint8  \n",
      " 35  engine-type_rotor       205 non-null    uint8  \n",
      "dtypes: float64(7), int64(9), object(8), uint8(12)\n",
      "memory usage: 41.0+ KB\n"
     ]
    }
   ],
   "source": [
    "df.info()"
   ]
  },
  {
   "cell_type": "code",
   "execution_count": 27,
   "id": "dbb66ebf",
   "metadata": {},
   "outputs": [
    {
     "data": {
      "text/plain": [
       "{'four': 159,\n",
       " 'six': 24,\n",
       " 'five': 11,\n",
       " 'eight': 5,\n",
       " 'two': 4,\n",
       " 'three': 1,\n",
       " 'twelve': 1}"
      ]
     },
     "execution_count": 27,
     "metadata": {},
     "output_type": "execute_result"
    }
   ],
   "source": [
    "df['num-of-cylinders'].isna().sum()\n",
    "df['num-of-cylinders'].value_counts().to_dict()"
   ]
  },
  {
   "cell_type": "code",
   "execution_count": 28,
   "id": "44f7ccbe",
   "metadata": {},
   "outputs": [],
   "source": [
    "df['num-of-cylinders'].replace({'four':4,'six':6,'five':5,'eight':8,'two':2,'three':3,'twelve': 12},inplace =True)"
   ]
  },
  {
   "cell_type": "code",
   "execution_count": 29,
   "id": "3cd2fed3",
   "metadata": {},
   "outputs": [
    {
     "name": "stdout",
     "output_type": "stream",
     "text": [
      "<class 'pandas.core.frame.DataFrame'>\n",
      "RangeIndex: 205 entries, 0 to 204\n",
      "Data columns (total 36 columns):\n",
      " #   Column                  Non-Null Count  Dtype  \n",
      "---  ------                  --------------  -----  \n",
      " 0   symboling               205 non-null    int64  \n",
      " 1   normalized-losses       205 non-null    float64\n",
      " 2   make                    205 non-null    object \n",
      " 3   fuel-type               205 non-null    int64  \n",
      " 4   aspiration              205 non-null    int64  \n",
      " 5   num-of-doors            205 non-null    float64\n",
      " 6   drive-wheels            205 non-null    int64  \n",
      " 7   engine-location         205 non-null    int64  \n",
      " 8   wheel-base              205 non-null    float64\n",
      " 9   length                  205 non-null    float64\n",
      " 10  width                   205 non-null    float64\n",
      " 11  height                  205 non-null    float64\n",
      " 12  curb-weight             205 non-null    int64  \n",
      " 13  num-of-cylinders        205 non-null    int64  \n",
      " 14  engine-size             205 non-null    int64  \n",
      " 15  fuel-system             205 non-null    object \n",
      " 16  bore                    201 non-null    object \n",
      " 17  stroke                  201 non-null    object \n",
      " 18  compression-ratio       205 non-null    float64\n",
      " 19  horsepower              203 non-null    object \n",
      " 20  peak-rpm                203 non-null    object \n",
      " 21  city-mpg                205 non-null    int64  \n",
      " 22  highway-mpg             205 non-null    int64  \n",
      " 23  price                   201 non-null    object \n",
      " 24  body-style_convertible  205 non-null    uint8  \n",
      " 25  body-style_hardtop      205 non-null    uint8  \n",
      " 26  body-style_hatchback    205 non-null    uint8  \n",
      " 27  body-style_sedan        205 non-null    uint8  \n",
      " 28  body-style_wagon        205 non-null    uint8  \n",
      " 29  engine-type_dohc        205 non-null    uint8  \n",
      " 30  engine-type_dohcv       205 non-null    uint8  \n",
      " 31  engine-type_l           205 non-null    uint8  \n",
      " 32  engine-type_ohc         205 non-null    uint8  \n",
      " 33  engine-type_ohcf        205 non-null    uint8  \n",
      " 34  engine-type_ohcv        205 non-null    uint8  \n",
      " 35  engine-type_rotor       205 non-null    uint8  \n",
      "dtypes: float64(7), int64(10), object(7), uint8(12)\n",
      "memory usage: 41.0+ KB\n"
     ]
    }
   ],
   "source": [
    "df.info()"
   ]
  },
  {
   "cell_type": "code",
   "execution_count": 30,
   "id": "f7f2f5e1",
   "metadata": {},
   "outputs": [],
   "source": [
    "df['fuel-system'].isna().sum()\n",
    "df['fuel-system'].value_counts()\n",
    "df = pd.get_dummies(df,columns  =['fuel-system'])"
   ]
  },
  {
   "cell_type": "code",
   "execution_count": 31,
   "id": "66e3a2a8",
   "metadata": {},
   "outputs": [
    {
     "name": "stdout",
     "output_type": "stream",
     "text": [
      "<class 'pandas.core.frame.DataFrame'>\n",
      "RangeIndex: 205 entries, 0 to 204\n",
      "Data columns (total 43 columns):\n",
      " #   Column                  Non-Null Count  Dtype  \n",
      "---  ------                  --------------  -----  \n",
      " 0   symboling               205 non-null    int64  \n",
      " 1   normalized-losses       205 non-null    float64\n",
      " 2   make                    205 non-null    object \n",
      " 3   fuel-type               205 non-null    int64  \n",
      " 4   aspiration              205 non-null    int64  \n",
      " 5   num-of-doors            205 non-null    float64\n",
      " 6   drive-wheels            205 non-null    int64  \n",
      " 7   engine-location         205 non-null    int64  \n",
      " 8   wheel-base              205 non-null    float64\n",
      " 9   length                  205 non-null    float64\n",
      " 10  width                   205 non-null    float64\n",
      " 11  height                  205 non-null    float64\n",
      " 12  curb-weight             205 non-null    int64  \n",
      " 13  num-of-cylinders        205 non-null    int64  \n",
      " 14  engine-size             205 non-null    int64  \n",
      " 15  bore                    201 non-null    object \n",
      " 16  stroke                  201 non-null    object \n",
      " 17  compression-ratio       205 non-null    float64\n",
      " 18  horsepower              203 non-null    object \n",
      " 19  peak-rpm                203 non-null    object \n",
      " 20  city-mpg                205 non-null    int64  \n",
      " 21  highway-mpg             205 non-null    int64  \n",
      " 22  price                   201 non-null    object \n",
      " 23  body-style_convertible  205 non-null    uint8  \n",
      " 24  body-style_hardtop      205 non-null    uint8  \n",
      " 25  body-style_hatchback    205 non-null    uint8  \n",
      " 26  body-style_sedan        205 non-null    uint8  \n",
      " 27  body-style_wagon        205 non-null    uint8  \n",
      " 28  engine-type_dohc        205 non-null    uint8  \n",
      " 29  engine-type_dohcv       205 non-null    uint8  \n",
      " 30  engine-type_l           205 non-null    uint8  \n",
      " 31  engine-type_ohc         205 non-null    uint8  \n",
      " 32  engine-type_ohcf        205 non-null    uint8  \n",
      " 33  engine-type_ohcv        205 non-null    uint8  \n",
      " 34  engine-type_rotor       205 non-null    uint8  \n",
      " 35  fuel-system_1bbl        205 non-null    uint8  \n",
      " 36  fuel-system_2bbl        205 non-null    uint8  \n",
      " 37  fuel-system_4bbl        205 non-null    uint8  \n",
      " 38  fuel-system_idi         205 non-null    uint8  \n",
      " 39  fuel-system_mfi         205 non-null    uint8  \n",
      " 40  fuel-system_mpfi        205 non-null    uint8  \n",
      " 41  fuel-system_spdi        205 non-null    uint8  \n",
      " 42  fuel-system_spfi        205 non-null    uint8  \n",
      "dtypes: float64(7), int64(10), object(6), uint8(20)\n",
      "memory usage: 41.0+ KB\n"
     ]
    }
   ],
   "source": [
    "df.info()"
   ]
  },
  {
   "cell_type": "code",
   "execution_count": 32,
   "id": "14c17b44",
   "metadata": {},
   "outputs": [],
   "source": [
    "df['bore'].isna().sum()\n",
    "df['bore'] = df['bore'].fillna(df['bore'].median()).astype(float)"
   ]
  },
  {
   "cell_type": "code",
   "execution_count": 33,
   "id": "f09c7072",
   "metadata": {},
   "outputs": [
    {
     "name": "stdout",
     "output_type": "stream",
     "text": [
      "<class 'pandas.core.frame.DataFrame'>\n",
      "RangeIndex: 205 entries, 0 to 204\n",
      "Data columns (total 43 columns):\n",
      " #   Column                  Non-Null Count  Dtype  \n",
      "---  ------                  --------------  -----  \n",
      " 0   symboling               205 non-null    int64  \n",
      " 1   normalized-losses       205 non-null    float64\n",
      " 2   make                    205 non-null    object \n",
      " 3   fuel-type               205 non-null    int64  \n",
      " 4   aspiration              205 non-null    int64  \n",
      " 5   num-of-doors            205 non-null    float64\n",
      " 6   drive-wheels            205 non-null    int64  \n",
      " 7   engine-location         205 non-null    int64  \n",
      " 8   wheel-base              205 non-null    float64\n",
      " 9   length                  205 non-null    float64\n",
      " 10  width                   205 non-null    float64\n",
      " 11  height                  205 non-null    float64\n",
      " 12  curb-weight             205 non-null    int64  \n",
      " 13  num-of-cylinders        205 non-null    int64  \n",
      " 14  engine-size             205 non-null    int64  \n",
      " 15  bore                    205 non-null    float64\n",
      " 16  stroke                  201 non-null    object \n",
      " 17  compression-ratio       205 non-null    float64\n",
      " 18  horsepower              203 non-null    object \n",
      " 19  peak-rpm                203 non-null    object \n",
      " 20  city-mpg                205 non-null    int64  \n",
      " 21  highway-mpg             205 non-null    int64  \n",
      " 22  price                   201 non-null    object \n",
      " 23  body-style_convertible  205 non-null    uint8  \n",
      " 24  body-style_hardtop      205 non-null    uint8  \n",
      " 25  body-style_hatchback    205 non-null    uint8  \n",
      " 26  body-style_sedan        205 non-null    uint8  \n",
      " 27  body-style_wagon        205 non-null    uint8  \n",
      " 28  engine-type_dohc        205 non-null    uint8  \n",
      " 29  engine-type_dohcv       205 non-null    uint8  \n",
      " 30  engine-type_l           205 non-null    uint8  \n",
      " 31  engine-type_ohc         205 non-null    uint8  \n",
      " 32  engine-type_ohcf        205 non-null    uint8  \n",
      " 33  engine-type_ohcv        205 non-null    uint8  \n",
      " 34  engine-type_rotor       205 non-null    uint8  \n",
      " 35  fuel-system_1bbl        205 non-null    uint8  \n",
      " 36  fuel-system_2bbl        205 non-null    uint8  \n",
      " 37  fuel-system_4bbl        205 non-null    uint8  \n",
      " 38  fuel-system_idi         205 non-null    uint8  \n",
      " 39  fuel-system_mfi         205 non-null    uint8  \n",
      " 40  fuel-system_mpfi        205 non-null    uint8  \n",
      " 41  fuel-system_spdi        205 non-null    uint8  \n",
      " 42  fuel-system_spfi        205 non-null    uint8  \n",
      "dtypes: float64(8), int64(10), object(5), uint8(20)\n",
      "memory usage: 41.0+ KB\n"
     ]
    }
   ],
   "source": [
    "df.info()"
   ]
  },
  {
   "cell_type": "code",
   "execution_count": 34,
   "id": "ee2bfa66",
   "metadata": {},
   "outputs": [],
   "source": [
    "df['price'] = df['price'].fillna(df['price'].median()).astype(float)"
   ]
  },
  {
   "cell_type": "code",
   "execution_count": 35,
   "id": "a66825e6",
   "metadata": {},
   "outputs": [],
   "source": [
    "df['horsepower']=df['horsepower'].fillna(df['horsepower'].median()).astype(float)\n",
    "df['peak-rpm'] = df['peak-rpm'].fillna(df['peak-rpm'].median()).astype(float)\n",
    "df['stroke'] = df['stroke'].fillna(df['stroke'].median()).astype(float)\n",
    "\n"
   ]
  },
  {
   "cell_type": "code",
   "execution_count": 36,
   "id": "0ad3860e",
   "metadata": {},
   "outputs": [
    {
     "name": "stdout",
     "output_type": "stream",
     "text": [
      "<class 'pandas.core.frame.DataFrame'>\n",
      "RangeIndex: 205 entries, 0 to 204\n",
      "Data columns (total 43 columns):\n",
      " #   Column                  Non-Null Count  Dtype  \n",
      "---  ------                  --------------  -----  \n",
      " 0   symboling               205 non-null    int64  \n",
      " 1   normalized-losses       205 non-null    float64\n",
      " 2   make                    205 non-null    object \n",
      " 3   fuel-type               205 non-null    int64  \n",
      " 4   aspiration              205 non-null    int64  \n",
      " 5   num-of-doors            205 non-null    float64\n",
      " 6   drive-wheels            205 non-null    int64  \n",
      " 7   engine-location         205 non-null    int64  \n",
      " 8   wheel-base              205 non-null    float64\n",
      " 9   length                  205 non-null    float64\n",
      " 10  width                   205 non-null    float64\n",
      " 11  height                  205 non-null    float64\n",
      " 12  curb-weight             205 non-null    int64  \n",
      " 13  num-of-cylinders        205 non-null    int64  \n",
      " 14  engine-size             205 non-null    int64  \n",
      " 15  bore                    205 non-null    float64\n",
      " 16  stroke                  205 non-null    float64\n",
      " 17  compression-ratio       205 non-null    float64\n",
      " 18  horsepower              205 non-null    float64\n",
      " 19  peak-rpm                205 non-null    float64\n",
      " 20  city-mpg                205 non-null    int64  \n",
      " 21  highway-mpg             205 non-null    int64  \n",
      " 22  price                   205 non-null    float64\n",
      " 23  body-style_convertible  205 non-null    uint8  \n",
      " 24  body-style_hardtop      205 non-null    uint8  \n",
      " 25  body-style_hatchback    205 non-null    uint8  \n",
      " 26  body-style_sedan        205 non-null    uint8  \n",
      " 27  body-style_wagon        205 non-null    uint8  \n",
      " 28  engine-type_dohc        205 non-null    uint8  \n",
      " 29  engine-type_dohcv       205 non-null    uint8  \n",
      " 30  engine-type_l           205 non-null    uint8  \n",
      " 31  engine-type_ohc         205 non-null    uint8  \n",
      " 32  engine-type_ohcf        205 non-null    uint8  \n",
      " 33  engine-type_ohcv        205 non-null    uint8  \n",
      " 34  engine-type_rotor       205 non-null    uint8  \n",
      " 35  fuel-system_1bbl        205 non-null    uint8  \n",
      " 36  fuel-system_2bbl        205 non-null    uint8  \n",
      " 37  fuel-system_4bbl        205 non-null    uint8  \n",
      " 38  fuel-system_idi         205 non-null    uint8  \n",
      " 39  fuel-system_mfi         205 non-null    uint8  \n",
      " 40  fuel-system_mpfi        205 non-null    uint8  \n",
      " 41  fuel-system_spdi        205 non-null    uint8  \n",
      " 42  fuel-system_spfi        205 non-null    uint8  \n",
      "dtypes: float64(12), int64(10), object(1), uint8(20)\n",
      "memory usage: 41.0+ KB\n"
     ]
    }
   ],
   "source": [
    "df.info()"
   ]
  },
  {
   "cell_type": "code",
   "execution_count": 37,
   "id": "c19873b6",
   "metadata": {},
   "outputs": [],
   "source": [
    "df = df.drop(['make'],axis =1)"
   ]
  },
  {
   "cell_type": "code",
   "execution_count": 38,
   "id": "9b827585",
   "metadata": {},
   "outputs": [],
   "source": [
    "x = df.drop(['price'],axis =1)\n",
    "y = df['price']"
   ]
  },
  {
   "cell_type": "code",
   "execution_count": 39,
   "id": "b7ac6bc6",
   "metadata": {},
   "outputs": [
    {
     "data": {
      "text/plain": [
       "symboling                 0\n",
       "normalized-losses         0\n",
       "fuel-type                 0\n",
       "aspiration                0\n",
       "num-of-doors              0\n",
       "drive-wheels              0\n",
       "engine-location           0\n",
       "wheel-base                0\n",
       "length                    0\n",
       "width                     0\n",
       "height                    0\n",
       "curb-weight               0\n",
       "num-of-cylinders          0\n",
       "engine-size               0\n",
       "bore                      0\n",
       "stroke                    0\n",
       "compression-ratio         0\n",
       "horsepower                0\n",
       "peak-rpm                  0\n",
       "city-mpg                  0\n",
       "highway-mpg               0\n",
       "price                     0\n",
       "body-style_convertible    0\n",
       "body-style_hardtop        0\n",
       "body-style_hatchback      0\n",
       "body-style_sedan          0\n",
       "body-style_wagon          0\n",
       "engine-type_dohc          0\n",
       "engine-type_dohcv         0\n",
       "engine-type_l             0\n",
       "engine-type_ohc           0\n",
       "engine-type_ohcf          0\n",
       "engine-type_ohcv          0\n",
       "engine-type_rotor         0\n",
       "fuel-system_1bbl          0\n",
       "fuel-system_2bbl          0\n",
       "fuel-system_4bbl          0\n",
       "fuel-system_idi           0\n",
       "fuel-system_mfi           0\n",
       "fuel-system_mpfi          0\n",
       "fuel-system_spdi          0\n",
       "fuel-system_spfi          0\n",
       "dtype: int64"
      ]
     },
     "execution_count": 39,
     "metadata": {},
     "output_type": "execute_result"
    }
   ],
   "source": [
    "df.isna().sum()"
   ]
  },
  {
   "cell_type": "code",
   "execution_count": 40,
   "id": "83f71d19",
   "metadata": {},
   "outputs": [
    {
     "data": {
      "text/plain": [
       "LinearRegression()"
      ]
     },
     "execution_count": 40,
     "metadata": {},
     "output_type": "execute_result"
    }
   ],
   "source": [
    "x_train,x_test,y_train,y_test = train_test_split(x,y,test_size =0.2,random_state = 2,shuffle =True)\n",
    "lin_reg = LinearRegression()\n",
    "lin_reg.fit(x_train,y_train)"
   ]
  },
  {
   "cell_type": "code",
   "execution_count": 41,
   "id": "587b176e",
   "metadata": {},
   "outputs": [
    {
     "name": "stdout",
     "output_type": "stream",
     "text": [
      "23     7957.0\n",
      "45    10295.0\n",
      "6     17710.0\n",
      "12    20970.0\n",
      "64    11245.0\n",
      "Name: price, dtype: float64\n",
      "[ 8279.30656165  6562.99474091 22894.8353259  16654.95839919\n",
      " 11262.91044737]\n"
     ]
    }
   ],
   "source": [
    "y_pred = lin_reg.predict(x_test)\n",
    "print(y_test[20:25])\n",
    "print(y_pred[20:25])"
   ]
  },
  {
   "cell_type": "markdown",
   "id": "f6b77484",
   "metadata": {},
   "source": [
    "Evaluation on Testing"
   ]
  },
  {
   "cell_type": "code",
   "execution_count": 42,
   "id": "c7ff21f9",
   "metadata": {},
   "outputs": [
    {
     "name": "stdout",
     "output_type": "stream",
     "text": [
      "21140319.221736033\n",
      "4597.860287322357\n",
      "3142.6692007171596\n",
      "0.39337480425790017\n"
     ]
    }
   ],
   "source": [
    "mse  = mean_squared_error(y_test,y_pred)\n",
    "print(mse)\n",
    "rmse  =np.sqrt(mse)\n",
    "print(rmse)\n",
    "mae = mean_absolute_error(y_test,y_pred)\n",
    "print(mae)\n",
    "r2 = r2_score(y_test,y_pred)\n",
    "print(r2)"
   ]
  },
  {
   "cell_type": "markdown",
   "id": "10f3f63e",
   "metadata": {},
   "source": [
    "Evaluation on Training Data"
   ]
  },
  {
   "cell_type": "code",
   "execution_count": 43,
   "id": "f6c2806b",
   "metadata": {},
   "outputs": [],
   "source": [
    "y_pred_train = lin_reg.predict(x_train)"
   ]
  },
  {
   "cell_type": "code",
   "execution_count": 44,
   "id": "0b1f77d6",
   "metadata": {},
   "outputs": [
    {
     "name": "stdout",
     "output_type": "stream",
     "text": [
      "4126642.7184979306\n",
      "2031.4139702428774\n",
      "1472.778009339281\n",
      "0.9397444224956264\n"
     ]
    }
   ],
   "source": [
    "mse  = mean_squared_error(y_train,y_pred_train)\n",
    "print(mse)\n",
    "rmse  =np.sqrt(mse)\n",
    "print(rmse)\n",
    "mae  =mean_absolute_error(y_train,y_pred_train)\n",
    "print(mae)\n",
    "r2 = r2_score(y_train,y_pred_train)\n",
    "print(r2)\n"
   ]
  },
  {
   "cell_type": "code",
   "execution_count": 45,
   "id": "ac22b14d",
   "metadata": {},
   "outputs": [
    {
     "data": {
      "text/plain": [
       "[<matplotlib.lines.Line2D at 0x2048fa78340>,\n",
       " <matplotlib.lines.Line2D at 0x2048fa78370>,\n",
       " <matplotlib.lines.Line2D at 0x2048fa783a0>,\n",
       " <matplotlib.lines.Line2D at 0x2048fa784f0>,\n",
       " <matplotlib.lines.Line2D at 0x2048fa78610>,\n",
       " <matplotlib.lines.Line2D at 0x2048fa78730>,\n",
       " <matplotlib.lines.Line2D at 0x2048fa78850>,\n",
       " <matplotlib.lines.Line2D at 0x2048fa78970>,\n",
       " <matplotlib.lines.Line2D at 0x2048fa78a90>,\n",
       " <matplotlib.lines.Line2D at 0x2048fa6b190>,\n",
       " <matplotlib.lines.Line2D at 0x2048fa6b1c0>,\n",
       " <matplotlib.lines.Line2D at 0x2048fa3ac70>,\n",
       " <matplotlib.lines.Line2D at 0x2048fa78dc0>,\n",
       " <matplotlib.lines.Line2D at 0x2048fa78ee0>,\n",
       " <matplotlib.lines.Line2D at 0x2048fa83040>,\n",
       " <matplotlib.lines.Line2D at 0x2048fa83160>,\n",
       " <matplotlib.lines.Line2D at 0x2048fa83280>,\n",
       " <matplotlib.lines.Line2D at 0x2048fa833a0>,\n",
       " <matplotlib.lines.Line2D at 0x2048fa834c0>,\n",
       " <matplotlib.lines.Line2D at 0x2048fa835e0>,\n",
       " <matplotlib.lines.Line2D at 0x2048fa83700>,\n",
       " <matplotlib.lines.Line2D at 0x2048fa83820>,\n",
       " <matplotlib.lines.Line2D at 0x2048fa83940>,\n",
       " <matplotlib.lines.Line2D at 0x2048fa83a60>,\n",
       " <matplotlib.lines.Line2D at 0x2048fa83b80>,\n",
       " <matplotlib.lines.Line2D at 0x2048fa83ca0>,\n",
       " <matplotlib.lines.Line2D at 0x2048fa83dc0>,\n",
       " <matplotlib.lines.Line2D at 0x2048fa83ee0>,\n",
       " <matplotlib.lines.Line2D at 0x2048fa8a040>,\n",
       " <matplotlib.lines.Line2D at 0x2048fa8a160>,\n",
       " <matplotlib.lines.Line2D at 0x2048fa8a280>,\n",
       " <matplotlib.lines.Line2D at 0x2048fa8a3a0>,\n",
       " <matplotlib.lines.Line2D at 0x2048fa8a4c0>,\n",
       " <matplotlib.lines.Line2D at 0x2048fa8a5e0>,\n",
       " <matplotlib.lines.Line2D at 0x2048fa8a700>,\n",
       " <matplotlib.lines.Line2D at 0x2048fa8a820>,\n",
       " <matplotlib.lines.Line2D at 0x2048fa8a940>,\n",
       " <matplotlib.lines.Line2D at 0x2048fa8aa60>,\n",
       " <matplotlib.lines.Line2D at 0x2048fa8ab80>,\n",
       " <matplotlib.lines.Line2D at 0x2048fa8aca0>,\n",
       " <matplotlib.lines.Line2D at 0x2048fa8adc0>]"
      ]
     },
     "execution_count": 45,
     "metadata": {},
     "output_type": "execute_result"
    },
    {
     "data": {
      "image/png": "[encoded data removed]",
      "text/plain": [
       "<Figure size 432x288 with 1 Axes>"
      ]
     },
     "metadata": {
      "needs_background": "light"
     },
     "output_type": "display_data"
    }
   ],
   "source": [
    "plt.plot(x_test,y_pred)"
   ]
  },
  {
   "cell_type": "code",
   "execution_count": 46,
   "id": "9b99c4b9",
   "metadata": {},
   "outputs": [
    {
     "data": {
      "text/plain": [
       "Index(['symboling', 'normalized-losses', 'fuel-type', 'aspiration',\n",
       "       'num-of-doors', 'drive-wheels', 'engine-location', 'wheel-base',\n",
       "       'length', 'width', 'height', 'curb-weight', 'num-of-cylinders',\n",
       "       'engine-size', 'bore', 'stroke', 'compression-ratio', 'horsepower',\n",
       "       'peak-rpm', 'city-mpg', 'highway-mpg', 'body-style_convertible',\n",
       "       'body-style_hardtop', 'body-style_hatchback', 'body-style_sedan',\n",
       "       'body-style_wagon', 'engine-type_dohc', 'engine-type_dohcv',\n",
       "       'engine-type_l', 'engine-type_ohc', 'engine-type_ohcf',\n",
       "       'engine-type_ohcv', 'engine-type_rotor', 'fuel-system_1bbl',\n",
       "       'fuel-system_2bbl', 'fuel-system_4bbl', 'fuel-system_idi',\n",
       "       'fuel-system_mfi', 'fuel-system_mpfi', 'fuel-system_spdi',\n",
       "       'fuel-system_spfi'],\n",
       "      dtype='object')"
      ]
     },
     "execution_count": 46,
     "metadata": {},
     "output_type": "execute_result"
    }
   ],
   "source": [
    "x.columns"
   ]
  },
  {
   "cell_type": "code",
   "execution_count": 47,
   "id": "3cbf3636",
   "metadata": {},
   "outputs": [],
   "source": [
    "a = np.array([4,115,1,1,2,2,1,88,169,56.1,48.9,2549,3,130,3.48,2.68,9.0,116,5000,21,27,1,0,0,0,0,1,0,0,0,0,0,0,1,0,0,0,0,0,0,0],ndmin =2)"
   ]
  },
  {
   "cell_type": "code",
   "execution_count": 48,
   "id": "728e8742",
   "metadata": {},
   "outputs": [
    {
     "name": "stdout",
     "output_type": "stream",
     "text": [
      "[21188.60298345]\n"
     ]
    }
   ],
   "source": [
    "out = lin_reg.predict(a)\n",
    "print(out)\n"
   ]
  },
  {
   "cell_type": "code",
   "execution_count": 49,
   "id": "65e2e366",
   "metadata": {},
   "outputs": [],
   "source": [
    "df1 = pd.read_csv(r'C:\\Users\\Pravin\\anaconda3\\autos_dataset.csv')"
   ]
  },
  {
   "cell_type": "code",
   "execution_count": 50,
   "id": "8b467ffd",
   "metadata": {},
   "outputs": [],
   "source": [
    "onhot_enc = OneHotEncoder(dtype =int)"
   ]
  },
  {
   "cell_type": "code",
   "execution_count": 51,
   "id": "4acecc2a",
   "metadata": {},
   "outputs": [
    {
     "data": {
      "text/plain": [
       "OneHotEncoder(dtype=<class 'int'>)"
      ]
     },
     "execution_count": 51,
     "metadata": {},
     "output_type": "execute_result"
    }
   ],
   "source": [
    "onhot_enc.fit(df1[['make']])"
   ]
  },
  {
   "cell_type": "code",
   "execution_count": 52,
   "id": "4781f6a1",
   "metadata": {},
   "outputs": [
    {
     "data": {
      "text/plain": [
       "array([[1, 0, 0, ..., 0, 0, 0],\n",
       "       [1, 0, 0, ..., 0, 0, 0],\n",
       "       [1, 0, 0, ..., 0, 0, 0],\n",
       "       ...,\n",
       "       [0, 0, 0, ..., 0, 0, 1],\n",
       "       [0, 0, 0, ..., 0, 0, 1],\n",
       "       [0, 0, 0, ..., 0, 0, 1]])"
      ]
     },
     "execution_count": 52,
     "metadata": {},
     "output_type": "execute_result"
    }
   ],
   "source": [
    "array =onhot_enc.fit_transform(df1[['make']]).toarray()\n",
    "array"
   ]
  },
  {
   "cell_type": "code",
   "execution_count": 53,
   "id": "b03426ec",
   "metadata": {},
   "outputs": [],
   "source": [
    "x_train = df1['make'].head(170)\n",
    "x_test = df1['make'].tail(35)"
   ]
  },
  {
   "cell_type": "code",
   "execution_count": 54,
   "id": "aa0c3ce0",
   "metadata": {},
   "outputs": [],
   "source": [
    "#df3 = pd.DataFrame(array,columns =onhot_enc.categories_)"
   ]
  },
  {
   "cell_type": "code",
   "execution_count": 55,
   "id": "5ea39def",
   "metadata": {},
   "outputs": [],
   "source": [
    "#df4 = pd.concat([df,df3],axis=1)"
   ]
  },
  {
   "cell_type": "code",
   "execution_count": 56,
   "id": "d54e6f02",
   "metadata": {},
   "outputs": [
    {
     "data": {
      "text/plain": [
       "Index(['symboling', 'normalized-losses', 'fuel-type', 'aspiration',\n",
       "       'num-of-doors', 'drive-wheels', 'engine-location', 'wheel-base',\n",
       "       'length', 'width', 'height', 'curb-weight', 'num-of-cylinders',\n",
       "       'engine-size', 'bore', 'stroke', 'compression-ratio', 'horsepower',\n",
       "       'peak-rpm', 'city-mpg', 'highway-mpg', 'body-style_convertible',\n",
       "       'body-style_hardtop', 'body-style_hatchback', 'body-style_sedan',\n",
       "       'body-style_wagon', 'engine-type_dohc', 'engine-type_dohcv',\n",
       "       'engine-type_l', 'engine-type_ohc', 'engine-type_ohcf',\n",
       "       'engine-type_ohcv', 'engine-type_rotor', 'fuel-system_1bbl',\n",
       "       'fuel-system_2bbl', 'fuel-system_4bbl', 'fuel-system_idi',\n",
       "       'fuel-system_mfi', 'fuel-system_mpfi', 'fuel-system_spdi',\n",
       "       'fuel-system_spfi'],\n",
       "      dtype='object')"
      ]
     },
     "execution_count": 56,
     "metadata": {},
     "output_type": "execute_result"
    }
   ],
   "source": [
    "x.columns"
   ]
  },
  {
   "cell_type": "code",
   "execution_count": 57,
   "id": "cdf7181f",
   "metadata": {},
   "outputs": [
    {
     "data": {
      "text/plain": [
       "0    27\n",
       "1    27\n",
       "2    26\n",
       "3    30\n",
       "4    22\n",
       "Name: highway-mpg, dtype: int64"
      ]
     },
     "execution_count": 57,
     "metadata": {},
     "output_type": "execute_result"
    }
   ],
   "source": [
    "df['highway-mpg'].head()"
   ]
  },
  {
   "cell_type": "code",
   "execution_count": 58,
   "id": "56aa9250",
   "metadata": {},
   "outputs": [],
   "source": [
    "column_names = x.columns"
   ]
  },
  {
   "cell_type": "code",
   "execution_count": 59,
   "id": "d38d4551",
   "metadata": {},
   "outputs": [],
   "source": [
    "symboling=3\n",
    "normalized_losses= 115\n",
    "fuel_type= 'gas'\n",
    "aspiration=0\n",
    "num_of_doors= 'two'\n",
    "drive_wheels=2\n",
    "engine_location=1\n",
    "wheel_base=89\n",
    "length=168.8\n",
    "width= 65\n",
    "height=49\n",
    "curb_weight=2548\n",
    "num_of_cylinders='four'\n",
    "engine_size= 130\n",
    "bore= 3.48\n",
    "stroke= 2.68\n",
    "compression_ratio= 9\n",
    "horsepower=111\n",
    "peak_rpm= 5000\n",
    "city_mpg= 21\n",
    "highway_mpg= 27"
   ]
  },
  {
   "cell_type": "code",
   "execution_count": 60,
   "id": "a3e8a6d7",
   "metadata": {},
   "outputs": [],
   "source": [
    "fuel_type_values = {'gas':0,'diesel':1}\n",
    "num_of_doors_values = {'four':4,'two':2}\n",
    "num_of_cylinders_values ={'four':4,'six':6,'five':5,'eight':8,'two':2,'three':3,'twelve': 12}"
   ]
  },
  {
   "cell_type": "code",
   "execution_count": 61,
   "id": "719c2a68",
   "metadata": {},
   "outputs": [
    {
     "name": "stdout",
     "output_type": "stream",
     "text": [
      "[36587.16463169]\n"
     ]
    }
   ],
   "source": [
    "array1 = np.zeros((len(x.columns)),dtype =int)\n",
    "\n",
    "\n",
    "num_of_cylinders = num_of_cylinders_values[num_of_cylinders]\n",
    "fuel_type = fuel_type_values[fuel_type]\n",
    "num_of_doors=num_of_doors_values[num_of_doors]\n",
    "\n",
    "array1[0]=symboling\n",
    "array1[1]=normalized_losses\n",
    "array1[2]=fuel_type\n",
    "array1[3]=aspiration\n",
    "array1[4]=num_of_doors\n",
    "array1[5]=drive_wheels\n",
    "array1[6]=engine_location\n",
    "array1[7]=wheel_base\n",
    "array1[8]=length\n",
    "array1[9]=width\n",
    "array1[10]=height\n",
    "array1[11]=curb_weight\n",
    "array1[12]=num_of_cylinders\n",
    "array1[13]=engine_size\n",
    "array1[14]=bore\n",
    "array1[15]=stroke\n",
    "array1[16]=compression_ratio\n",
    "array1[17]=horsepower\n",
    "array1[18]=peak_rpm\n",
    "array1[19]=city_mpg\n",
    "array1[20]=highway_mpg\n",
    "\n",
    "body_style='body-style_'+'hatchback'\n",
    "engine_type='engine-type_'+'ohc'\n",
    "fuel_system='fuel-system_'+'idi'\n",
    "\n",
    "body_style_index=np.where(column_names==body_style)[0][0]\n",
    "engine_type_index = np.where(column_names==engine_type)[0][0]\n",
    "fuel_system_index = np.where(column_names==fuel_system)[0][0]\n",
    "\n",
    "array1[body_style_index]=1\n",
    "array1[engine_type_index]=1\n",
    "array1[fuel_system_index]=1\n",
    "\n",
    "print(lin_reg.predict([array1]))"
   ]
  },
  {
   "cell_type": "code",
   "execution_count": 62,
   "id": "cfb6ff7f",
   "metadata": {},
   "outputs": [],
   "source": [
    "import pickle\n",
    "with open('model.pkl','wb') as f:\n",
    "    pickle.dump(lin_reg,f)"
   ]
  },
  {
   "cell_type": "code",
   "execution_count": 63,
   "id": "1aab413d",
   "metadata": {},
   "outputs": [],
   "source": [
    "label_encoded_columns = {'num_of_doors':num_of_doors_values,'fuel_type':fuel_type_values,\n",
    "                         'num_of_cylinders':num_of_cylinders_values,'Columns':list(x.columns)}\n",
    "\n",
    "\n"
   ]
  },
  {
   "cell_type": "code",
   "execution_count": 64,
   "id": "1ca8c802",
   "metadata": {},
   "outputs": [],
   "source": [
    "import json\n",
    "with open('ss.json','w') as f:\n",
    "    json.dump(label_encoded_columns,f)"
   ]
  },
  {
   "cell_type": "code",
   "execution_count": 67,
   "id": "6828ac72",
   "metadata": {},
   "outputs": [
    {
     "data": {
      "text/plain": [
       "Index(['symboling', 'normalized-losses', 'fuel-type', 'aspiration',\n",
       "       'num-of-doors', 'drive-wheels', 'engine-location', 'wheel-base',\n",
       "       'length', 'width', 'height', 'curb-weight', 'num-of-cylinders',\n",
       "       'engine-size', 'bore', 'stroke', 'compression-ratio', 'horsepower',\n",
       "       'peak-rpm', 'city-mpg', 'highway-mpg', 'body-style_convertible',\n",
       "       'body-style_hardtop', 'body-style_hatchback', 'body-style_sedan',\n",
       "       'body-style_wagon', 'engine-type_dohc', 'engine-type_dohcv',\n",
       "       'engine-type_l', 'engine-type_ohc', 'engine-type_ohcf',\n",
       "       'engine-type_ohcv', 'engine-type_rotor', 'fuel-system_1bbl',\n",
       "       'fuel-system_2bbl', 'fuel-system_4bbl', 'fuel-system_idi',\n",
       "       'fuel-system_mfi', 'fuel-system_mpfi', 'fuel-system_spdi',\n",
       "       'fuel-system_spfi'],\n",
       "      dtype='object')"
      ]
     },
     "execution_count": 67,
     "metadata": {},
     "output_type": "execute_result"
    }
   ],
   "source": [
    "x.columns\n"
   ]
  }
 ],
 "metadata": {
  "kernelspec": {
   "display_name": "Python 3 (ipykernel)",
   "language": "python",
   "name": "python3"
  },
  "language_info": {
   "codemirror_mode": {
    "name": "ipython",
    "version": 3
   },
   "file_extension": ".py",
   "mimetype": "text/x-python",
   "name": "python",
   "nbconvert_exporter": "python",
   "pygments_lexer": "ipython3",
   "version": "3.9.7"
  }
 },
 "nbformat": 4,
 "nbformat_minor": 5
}
